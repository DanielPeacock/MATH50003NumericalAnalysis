{
 "cells": [
  {
   "cell_type": "markdown",
   "metadata": {},
   "source": [
    "# MATH50003 (2022–23)\n",
    "# Lab 1: Introduction to Julia"
   ]
  },
  {
   "cell_type": "markdown",
   "metadata": {},
   "source": [
    "This problem sheet is designed to introduce some basic Julia\n",
    "knowledge. Note each problem has multiple solutions, and the solution\n",
    "sheet will show different ways of solving the same problem. We will discuss the\n",
    "following:"
   ]
  },
  {
   "cell_type": "markdown",
   "metadata": {},
   "source": [
    "1. Integers\n",
    "2. Reals\n",
    "2. Strings and parsing\n",
    "3. Types"
   ]
  },
  {
   "cell_type": "markdown",
   "metadata": {},
   "source": [
    "In assessment, _any_ \"solution\" will be accepted provided it does the right thing!\n",
    "So you do not need to be able to write broadcasting or comprehensions\n",
    "if you can do for loops."
   ]
  },
  {
   "cell_type": "markdown",
   "metadata": {},
   "source": [
    "We load the following packages:"
   ]
  },
  {
   "cell_type": "code",
   "execution_count": 137,
   "metadata": {},
   "outputs": [],
   "source": [
    "using ColorBitstring, Test"
   ]
  },
  {
   "cell_type": "markdown",
   "metadata": {},
   "source": [
    "## 1. Integers"
   ]
  },
  {
   "cell_type": "markdown",
   "metadata": {},
   "source": [
    "Every primitive number type is stored as a sequence of bits.\n",
    "The number of _bytes_ (i.e. 8-bits) can be deduced using the `sizeof` function:"
   ]
  },
  {
   "cell_type": "code",
   "execution_count": 138,
   "metadata": {},
   "outputs": [
    {
     "data": {
      "text/plain": [
       "4"
      ]
     },
     "execution_count": 138,
     "metadata": {},
     "output_type": "execute_result"
    }
   ],
   "source": [
    "sizeof(UInt32) # 4 bytes == 4*8 bits == 32 bits"
   ]
  },
  {
   "cell_type": "markdown",
   "metadata": {},
   "source": [
    "The function `typeof` can be used to determine the type of a number.\n",
    "By default when we write an integer (e.g. `-123`) it is of type `Int`:"
   ]
  },
  {
   "cell_type": "code",
   "execution_count": 139,
   "metadata": {},
   "outputs": [
    {
     "data": {
      "text/plain": [
       "Int64"
      ]
     },
     "execution_count": 139,
     "metadata": {},
     "output_type": "execute_result"
    }
   ],
   "source": [
    "typeof(5)"
   ]
  },
  {
   "cell_type": "markdown",
   "metadata": {},
   "source": [
    "-----\n",
    "**Problem 1.1** Use `sizeof` to determine how many bits your machine uses for the type `Int`."
   ]
  },
  {
   "cell_type": "code",
   "execution_count": 140,
   "metadata": {},
   "outputs": [
    {
     "data": {
      "text/plain": [
       "8"
      ]
     },
     "execution_count": 140,
     "metadata": {},
     "output_type": "execute_result"
    }
   ],
   "source": [
    "sizeof(Int) # 8 bytes == 8 * 8 bits == 64 bits"
   ]
  },
  {
   "cell_type": "markdown",
   "metadata": {},
   "source": [
    "-----"
   ]
  },
  {
   "cell_type": "markdown",
   "metadata": {},
   "source": [
    "There are a few ways to create other types of integers. Conversion\n",
    "converts between different types:"
   ]
  },
  {
   "cell_type": "code",
   "execution_count": 141,
   "metadata": {},
   "outputs": [
    {
     "data": {
      "text/plain": [
       "0x05"
      ]
     },
     "execution_count": 141,
     "metadata": {},
     "output_type": "execute_result"
    }
   ],
   "source": [
    "UInt8(5) # converts an `Int` to an `UInt8`, displaying the result in hex"
   ]
  },
  {
   "cell_type": "markdown",
   "metadata": {},
   "source": [
    "This fails if a number cannot be represented as a specified type: e.g. `UInt8(-5)` and `UInt8(2^8)`."
   ]
  },
  {
   "cell_type": "markdown",
   "metadata": {},
   "source": [
    "(These can also be written as e.g. `convert(UInt8, 5)`.)\n",
    "We can also create unsigned integers by specifying their bits\n",
    "by writing `0b` followed by a sequence of bits:"
   ]
  },
  {
   "cell_type": "code",
   "execution_count": 142,
   "metadata": {},
   "outputs": [
    {
     "data": {
      "text/plain": [
       "0x05"
      ]
     },
     "execution_count": 142,
     "metadata": {},
     "output_type": "execute_result"
    }
   ],
   "source": [
    "0b101 # isa UInt8, the smallest type with at least 3 bits"
   ]
  },
  {
   "cell_type": "code",
   "execution_count": 143,
   "metadata": {},
   "outputs": [
    {
     "data": {
      "text/plain": [
       "0x05dd"
      ]
     },
     "execution_count": 143,
     "metadata": {},
     "output_type": "execute_result"
    }
   ],
   "source": [
    "0b10111011101 # isa UInt16, the smallest type with at least 11 bits"
   ]
  },
  {
   "cell_type": "markdown",
   "metadata": {},
   "source": [
    "Or in base-16 using hexadecimal format (with digits `0–9a–f` following\n",
    "an `0x`), where each digit takes 4 bits to represent (since $2^4 = 16$):"
   ]
  },
  {
   "cell_type": "code",
   "execution_count": 144,
   "metadata": {},
   "outputs": [
    {
     "data": {
      "text/plain": [
       "0x000abcde"
      ]
     },
     "execution_count": 144,
     "metadata": {},
     "output_type": "execute_result"
    }
   ],
   "source": [
    "0xabcde # isa UInt32, the smallest type with at least 4*5 = 20 bits"
   ]
  },
  {
   "cell_type": "markdown",
   "metadata": {},
   "source": [
    "-----\n",
    "**Problem 1.2** Use binary format to create an `Int` corresponding to $(101101)_2$."
   ]
  },
  {
   "cell_type": "code",
   "execution_count": 145,
   "metadata": {},
   "outputs": [
    {
     "data": {
      "text/plain": [
       "45"
      ]
     },
     "execution_count": 145,
     "metadata": {},
     "output_type": "execute_result"
    }
   ],
   "source": [
    "Int(0b101101)"
   ]
  },
  {
   "cell_type": "markdown",
   "metadata": {},
   "source": [
    "-----"
   ]
  },
  {
   "cell_type": "markdown",
   "metadata": {},
   "source": [
    "**Problem 1.3** What happens if you specify more than 64 bits using `0b⋅⋅…⋅⋅`?\n",
    "What if you specify more than 128 bits?"
   ]
  },
  {
   "cell_type": "code",
   "execution_count": 146,
   "metadata": {},
   "outputs": [
    {
     "data": {
      "text/plain": [
       "BigInt"
      ]
     },
     "execution_count": 146,
     "metadata": {},
     "output_type": "execute_result"
    }
   ],
   "source": [
    "typeof(0b101101101101101101101101101101101101101101101101101101101101101101)\n",
    "typeof(0b010000000000000000000001000000000000000000000000000000000000000000000000000000000000000000000000000000000000000000000000000101101)\n",
    "\n"
   ]
  },
  {
   "cell_type": "markdown",
   "metadata": {},
   "source": [
    "-----"
   ]
  },
  {
   "cell_type": "markdown",
   "metadata": {},
   "source": [
    "We can also reinterpret a sequence of bits in a different format:"
   ]
  },
  {
   "cell_type": "code",
   "execution_count": 147,
   "metadata": {},
   "outputs": [
    {
     "data": {
      "text/plain": [
       "-1"
      ]
     },
     "execution_count": 147,
     "metadata": {},
     "output_type": "execute_result"
    }
   ],
   "source": [
    "reinterpret(Int8, 0b11111111) # Create an Int8 with the bits 11111111"
   ]
  },
  {
   "cell_type": "markdown",
   "metadata": {},
   "source": [
    "Arithmetic follows modular arithmetic. The following examples test your understanding of this."
   ]
  },
  {
   "cell_type": "markdown",
   "metadata": {},
   "source": [
    "-----"
   ]
  },
  {
   "cell_type": "markdown",
   "metadata": {},
   "source": [
    "**Problem 1.5** Can you predict what the output of the following will be before hitting return?"
   ]
  },
  {
   "cell_type": "code",
   "execution_count": 148,
   "metadata": {},
   "outputs": [
    {
     "data": {
      "text/plain": [
       "0x82"
      ]
     },
     "execution_count": 148,
     "metadata": {},
     "output_type": "execute_result"
    }
   ],
   "source": [
    "UInt8(120) + UInt8(10) # Convert to `Int` to see the number printed in decimal"
   ]
  },
  {
   "cell_type": "code",
   "execution_count": 149,
   "metadata": {},
   "outputs": [
    {
     "data": {
      "text/plain": [
       "-126"
      ]
     },
     "execution_count": 149,
     "metadata": {},
     "output_type": "execute_result"
    }
   ],
   "source": [
    "Int8(120) + Int8(10) "
   ]
  },
  {
   "cell_type": "code",
   "execution_count": 150,
   "metadata": {},
   "outputs": [
    {
     "data": {
      "text/plain": [
       "0x80"
      ]
     },
     "execution_count": 150,
     "metadata": {},
     "output_type": "execute_result"
    }
   ],
   "source": [
    "UInt8(2)^7 "
   ]
  },
  {
   "cell_type": "code",
   "execution_count": 151,
   "metadata": {},
   "outputs": [
    {
     "data": {
      "text/plain": [
       "-128"
      ]
     },
     "execution_count": 151,
     "metadata": {},
     "output_type": "execute_result"
    }
   ],
   "source": [
    "Int8(2)^7"
   ]
  },
  {
   "cell_type": "code",
   "execution_count": 152,
   "metadata": {},
   "outputs": [
    {
     "data": {
      "text/plain": [
       "0"
      ]
     },
     "execution_count": 152,
     "metadata": {},
     "output_type": "execute_result"
    }
   ],
   "source": [
    "Int8(2)^8 "
   ]
  },
  {
   "cell_type": "markdown",
   "metadata": {},
   "source": [
    "-----"
   ]
  },
  {
   "cell_type": "markdown",
   "metadata": {},
   "source": [
    "## 2. Reals\n",
    "\n",
    "Real numbers interpret a sequence of bits in floating point format.\n",
    "\n",
    "-----\n",
    "**Problem 2.1** Use `printbits` to guess the binary representation of $1/5$."
   ]
  },
  {
   "cell_type": "code",
   "execution_count": 153,
   "metadata": {},
   "outputs": [
    {
     "name": "stdout",
     "output_type": "stream",
     "text": [
      "\u001b[31m0\u001b[0m\u001b[32m01111111100\u001b[0m\u001b[34m1001100110011001100110011001100110011001100110011010\u001b[0m"
     ]
    }
   ],
   "source": [
    "printbits(1/5)"
   ]
  },
  {
   "cell_type": "markdown",
   "metadata": {},
   "source": [
    "-----"
   ]
  },
  {
   "cell_type": "markdown",
   "metadata": {},
   "source": [
    "**Problem 2.2** Create a positive `Float64` whose exponent is $q = 156$ and has significand\n",
    "bits\n",
    "$$\n",
    "b_k = \\begin{cases}\n",
    "    1 & k\\hbox{ is prime} \\\\\n",
    "    0 & \\hbox{otherwise}\n",
    "    \\end{cases}\n",
    "$$"
   ]
  },
  {
   "cell_type": "code",
   "execution_count": 154,
   "metadata": {},
   "outputs": [
    {
     "data": {
      "text/plain": [
       "1.945765637672752e-261"
      ]
     },
     "execution_count": 154,
     "metadata": {},
     "output_type": "execute_result"
    }
   ],
   "source": [
    "function isprime(k)\n",
    "    if k == 2\n",
    "        return true\n",
    "    end\n",
    "    if k % 2 == 0\n",
    "        return false\n",
    "    end\n",
    "    if k == 3\n",
    "        return true\n",
    "    end\n",
    "    for i = 3 : ceil(sqrt(k) + 1)\n",
    "        if k % i == 0 \n",
    "            return false\n",
    "        end\n",
    "    end\n",
    "    return true\n",
    "end\n",
    "\n",
    "bit_string = \"1\" \n",
    "\n",
    "for k = 1 : 52\n",
    "    if isprime(k)\n",
    "        bit_string *= \"1\"\n",
    "    else \n",
    "        bit_string *= \"0\"\n",
    "    end\n",
    "end\n",
    "\n",
    "significand = 2.0^(-52) * parse(Int, bit_string; base = 2)\n",
    "\n",
    "2.0^(156 - 1023) * significand"
   ]
  },
  {
   "cell_type": "markdown",
   "metadata": {},
   "source": [
    "-----"
   ]
  },
  {
   "cell_type": "markdown",
   "metadata": {},
   "source": [
    "**Problem 2.3** Create the smallest postive non-zero sub-normal `Float16` by specifying\n",
    "its bits."
   ]
  },
  {
   "cell_type": "code",
   "execution_count": 155,
   "metadata": {},
   "outputs": [
    {
     "data": {
      "text/plain": [
       "Float16(6.0e-8)"
      ]
     },
     "execution_count": 155,
     "metadata": {},
     "output_type": "execute_result"
    }
   ],
   "source": [
    "reinterpret(Float16, 0b0000000000000001)"
   ]
  },
  {
   "cell_type": "markdown",
   "metadata": {},
   "source": [
    "-----"
   ]
  },
  {
   "cell_type": "markdown",
   "metadata": {},
   "source": [
    "## 3. Strings and parsing"
   ]
  },
  {
   "cell_type": "markdown",
   "metadata": {},
   "source": [
    "Strings are a convenient way of representing arbitrary strings of digits.\n",
    "For example we can convert bits of a number to a string of \"1\"s and \"0\"s using the function `bitstring`."
   ]
  },
  {
   "cell_type": "markdown",
   "metadata": {},
   "source": [
    "-----"
   ]
  },
  {
   "cell_type": "markdown",
   "metadata": {},
   "source": [
    "**Problem 3.1** Can you predict what the output of the following will be before hitting return?"
   ]
  },
  {
   "cell_type": "code",
   "execution_count": 156,
   "metadata": {},
   "outputs": [
    {
     "data": {
      "text/plain": [
       "\"0000000000000000000000000000000000000000000000000000000000001011\""
      ]
     },
     "execution_count": 156,
     "metadata": {},
     "output_type": "execute_result"
    }
   ],
   "source": [
    "bitstring(11)"
   ]
  },
  {
   "cell_type": "code",
   "execution_count": 157,
   "metadata": {},
   "outputs": [
    {
     "data": {
      "text/plain": [
       "\"1111111111111111111111111111111111111111111111111111111111110101\""
      ]
     },
     "execution_count": 157,
     "metadata": {},
     "output_type": "execute_result"
    }
   ],
   "source": [
    "bitstring(-11)"
   ]
  },
  {
   "cell_type": "markdown",
   "metadata": {},
   "source": [
    "-----"
   ]
  },
  {
   "cell_type": "markdown",
   "metadata": {},
   "source": [
    "We can `parse` a string of digits in base 2 or 10:"
   ]
  },
  {
   "cell_type": "code",
   "execution_count": 158,
   "metadata": {},
   "outputs": [
    {
     "data": {
      "text/plain": [
       "(3, 11)"
      ]
     },
     "execution_count": 158,
     "metadata": {},
     "output_type": "execute_result"
    }
   ],
   "source": [
    "parse(Int8, \"11\"; base=2),\n",
    "parse(Int8, \"00001011\"; base=2)"
   ]
  },
  {
   "cell_type": "markdown",
   "metadata": {},
   "source": [
    "Be careful with \"negative\" numbers, the following will fail: `parse(Int8, \"10001011\"; base=2)`"
   ]
  },
  {
   "cell_type": "markdown",
   "metadata": {},
   "source": [
    "It treats the string as binary digits, NOT bits. That is, negative numbers\n",
    "are represented using the minus sign:"
   ]
  },
  {
   "cell_type": "code",
   "execution_count": 159,
   "metadata": {},
   "outputs": [
    {
     "data": {
      "text/plain": [
       "-11"
      ]
     },
     "execution_count": 159,
     "metadata": {},
     "output_type": "execute_result"
    }
   ],
   "source": [
    "parse(Int8, \"-00001011\"; base=2)"
   ]
  },
  {
   "cell_type": "markdown",
   "metadata": {},
   "source": [
    "-----"
   ]
  },
  {
   "cell_type": "markdown",
   "metadata": {},
   "source": [
    "**Problem 3.2** Combine `parse`, `reinterpret`, and `UInt8` to convert the\n",
    "above string to a (negative) `Int8` with the specified bits."
   ]
  },
  {
   "cell_type": "code",
   "execution_count": 160,
   "metadata": {},
   "outputs": [
    {
     "data": {
      "text/plain": [
       "\"10001011\""
      ]
     },
     "execution_count": 160,
     "metadata": {},
     "output_type": "execute_result"
    }
   ],
   "source": [
    "x = reinterpret(Int8, parse(UInt8, \"10001011\"; base=2))\n",
    "bitstring(x)"
   ]
  },
  {
   "cell_type": "markdown",
   "metadata": {},
   "source": [
    "-----"
   ]
  },
  {
   "cell_type": "markdown",
   "metadata": {},
   "source": [
    "To concatenate strings we use `*` (multiplication is used because string concatenation\n",
    "is non-commutative):"
   ]
  },
  {
   "cell_type": "code",
   "execution_count": 161,
   "metadata": {},
   "outputs": [
    {
     "data": {
      "text/plain": [
       "\"hibye\""
      ]
     },
     "execution_count": 161,
     "metadata": {},
     "output_type": "execute_result"
    }
   ],
   "source": [
    "\"hi\" * \"bye\""
   ]
  },
  {
   "cell_type": "markdown",
   "metadata": {},
   "source": [
    "The string consisting of the first nine characters can be found using `str[1:9]` where `str` is any string:"
   ]
  },
  {
   "cell_type": "code",
   "execution_count": 162,
   "metadata": {},
   "outputs": [
    {
     "data": {
      "text/plain": [
       "\"hibye0123\""
      ]
     },
     "execution_count": 162,
     "metadata": {},
     "output_type": "execute_result"
    }
   ],
   "source": [
    "str=\"hibye0123445556\"\n",
    "str[1:9]  # returns \"hibye0123\""
   ]
  },
  {
   "cell_type": "markdown",
   "metadata": {},
   "source": [
    "The string consisting of the 11th through last character can be found using `str[11:end]`:"
   ]
  },
  {
   "cell_type": "code",
   "execution_count": 163,
   "metadata": {},
   "outputs": [
    {
     "data": {
      "text/plain": [
       "\"45556\""
      ]
     },
     "execution_count": 163,
     "metadata": {},
     "output_type": "execute_result"
    }
   ],
   "source": [
    "str=\"hibye0123445556\"\n",
    "str[11:end]  # returns \"45556\""
   ]
  },
  {
   "cell_type": "markdown",
   "metadata": {},
   "source": [
    "-----"
   ]
  },
  {
   "cell_type": "markdown",
   "metadata": {},
   "source": [
    "**Problem 3.3** Complete the following function that sets the 10th bit of an `Int32` to `1`,\n",
    "and returns an `Int32`, assuming that the input is a positive integer, using `bitstring`,\n",
    "`parse` and `*`."
   ]
  },
  {
   "cell_type": "code",
   "execution_count": 164,
   "metadata": {},
   "outputs": [
    {
     "data": {
      "text/plain": [
       "\u001b[32m\u001b[1mTest Passed\u001b[22m\u001b[39m"
      ]
     },
     "execution_count": 164,
     "metadata": {},
     "output_type": "execute_result"
    }
   ],
   "source": [
    "function tenthbitto1(x::Int32)\n",
    "    bits = bitstring(x)\n",
    "    bits = bits[1:9] * \"1\" * bits[11:end]\n",
    "    return parse(Int32, bits; base = 2)\n",
    "end\n",
    "\n",
    "# unit tests are to help you check your result\n",
    "# Change to `@test` to see if your test passes\n",
    "@test tenthbitto1(Int32(100)) ≡ Int32(4194404)"
   ]
  },
  {
   "cell_type": "markdown",
   "metadata": {},
   "source": [
    "-----"
   ]
  },
  {
   "cell_type": "markdown",
   "metadata": {},
   "source": [
    "**Problem 3.4**  Modify the previous function to also work with negative numbers."
   ]
  },
  {
   "cell_type": "code",
   "execution_count": 165,
   "metadata": {},
   "outputs": [
    {
     "data": {
      "text/plain": [
       "\u001b[32m\u001b[1mTest Passed\u001b[22m\u001b[39m"
      ]
     },
     "execution_count": 165,
     "metadata": {},
     "output_type": "execute_result"
    }
   ],
   "source": [
    "function tenthbitto1(x::Int32)\n",
    "    bits = bitstring(x)\n",
    "    bits = bits[1:9] * \"1\" * bits[11:end]\n",
    "    return reinterpret(Int32, parse(UInt32, bits; base=2))\n",
    "end\n",
    "\n",
    "@test tenthbitto1(Int32(100)) ≡ Int32(4194404)\n",
    "@test tenthbitto1(-Int32(100000010)) ≡ Int32(-95805706)"
   ]
  },
  {
   "cell_type": "markdown",
   "metadata": {},
   "source": [
    "-----"
   ]
  },
  {
   "cell_type": "markdown",
   "metadata": {},
   "source": [
    "## 4. Types"
   ]
  },
  {
   "attachments": {},
   "cell_type": "markdown",
   "metadata": {},
   "source": [
    "Types allow for combining multiple numbers (or other types) to represent a more complicated\n",
    "object. That is, while a computer can only apply functions on $p$-bits at a time,\n",
    "these functions can be combined to perform more complicated operations on types\n",
    "that require more than $p$-bits. A simple example is a rational function."
   ]
  },
  {
   "cell_type": "markdown",
   "metadata": {},
   "source": [
    "-----"
   ]
  },
  {
   "attachments": {},
   "cell_type": "markdown",
   "metadata": {},
   "source": [
    "**Problem 4.1** Create a type `Rat` with two `Int` fields, `p` and `q`,\n",
    "representing a rational function including `+`, `*`, `-`, and `/`."
   ]
  },
  {
   "cell_type": "code",
   "execution_count": 166,
   "metadata": {},
   "outputs": [
    {
     "data": {
      "text/plain": [
       "\u001b[32m\u001b[1mTest Passed\u001b[22m\u001b[39m"
      ]
     },
     "execution_count": 166,
     "metadata": {},
     "output_type": "execute_result"
    }
   ],
   "source": [
    "# `struct` creates a new type called `Rat`\n",
    "# consisting of 128 bits, half encode `p`\n",
    "# and half encode `q`\n",
    "struct Rat\n",
    "    p::Int\n",
    "    q::Int\n",
    "end\n",
    "\n",
    "# A new instance of `Rat` is created via e.g. `Rat(1, 2)` represents 1/2\n",
    "# where the first argument specifies `p` and the second argument `q`.\n",
    "# The fields are accessed by `.`:\n",
    "\n",
    "x = Rat(1, 2)\n",
    "@test x.p == 1\n",
    "@test x.q == 2\n",
    "\n",
    "# We import `+`, `-`, `*`, `/` so we can \"overload\" these operations specifically\n",
    "# for `Rat`.\n",
    "import Base: +, -, *, /, ==\n",
    "\n",
    "\n",
    "# The ::Rat means the following version of `==` is only called if both arguments\n",
    "# are Rat\n",
    "function ==(x::Rat, y::Rat)\n",
    "    x_gcd = gcd(x.p, x.q)\n",
    "    y_gcd = gcd(y.p, y.q)\n",
    "    x_lowest = Rat(div(x.p, x_gcd), div(x.q, x_gcd))\n",
    "    y_lowest = Rat(div(y.p, y_gcd), div(y.q, y_gcd))\n",
    "\n",
    "    return x_lowest.p == y_lowest.p && x_lowest.q == y_lowest.q\n",
    "end\n",
    "\n",
    "# We can also support equality when `x is a Rat` and `y is an Integer`\n",
    "function ==(x::Rat, y::Integer)\n",
    "    return x == Rat(y, 1)\n",
    "end\n",
    "\n",
    "# Supporting equality when 'x is an Integer' and 'y is a Rat'\n",
    "function ==(x::Integer, y::Rat)\n",
    "    ==(y, x)\n",
    "end\n",
    "\n",
    "@test Rat(1, 2) == Rat(2, 4)\n",
    "@test Rat(1, 2) ≠ Rat(1, 3)\n",
    "@test Rat(2,2) == 1\n",
    "@test 1 == Rat(2,2)\n",
    "\n",
    "function +(x::Rat, y::Rat)\n",
    "    return Rat(x.p * y.q + y.p * x.q, x.q * y.q)\n",
    "end\n",
    "\n",
    "function -(x::Rat, y::Rat)\n",
    "    return Rat(x.p * y.q - y.p * x.q, x.q * y.q)\n",
    "end\n",
    "\n",
    "function *(x::Rat, y::Rat)\n",
    "    return Rat(x.p * y.p, x.q * y.q)\n",
    "end\n",
    "\n",
    "function /(x::Rat, y::Rat)\n",
    "    return x * Rat(y.q, y.p)\n",
    "end\n",
    "\n",
    "@test Rat(1, 2) + Rat(1, 3) == Rat(5, 6)\n",
    "@test Rat(1, 3) - Rat(1, 2) == Rat(-1, 6)\n",
    "@test Rat(2, 3) * Rat(3, 4) == Rat(1, 2)\n",
    "@test Rat(2, 3) / Rat(3, 4) == Rat(8, 9)"
   ]
  },
  {
   "cell_type": "markdown",
   "metadata": {},
   "source": [
    "---------"
   ]
  },
  {
   "cell_type": "markdown",
   "metadata": {},
   "source": [
    "Templating is a way of letting fields take on different types. For example, the following\n",
    "code allows `x` to be any type:"
   ]
  },
  {
   "cell_type": "code",
   "execution_count": 167,
   "metadata": {},
   "outputs": [
    {
     "data": {
      "text/plain": [
       "Foo{Int64}(5)"
      ]
     },
     "execution_count": 167,
     "metadata": {},
     "output_type": "execute_result"
    }
   ],
   "source": [
    "struct Foo{T}\n",
    "    x::T\n",
    "end\n",
    "\n",
    "Foo(5) # isa Foo{Int}"
   ]
  },
  {
   "cell_type": "code",
   "execution_count": 168,
   "metadata": {},
   "outputs": [
    {
     "data": {
      "text/plain": [
       "Foo{String}(\"hi\")"
      ]
     },
     "execution_count": 168,
     "metadata": {},
     "output_type": "execute_result"
    }
   ],
   "source": [
    "Foo(\"hi\") # isa Foo{String}"
   ]
  },
  {
   "cell_type": "markdown",
   "metadata": {},
   "source": [
    "-----"
   ]
  },
  {
   "cell_type": "markdown",
   "metadata": {},
   "source": [
    "**Problem 4.2** Modify the above code so that `p` and `q` can be other types but both the same type,\n",
    "for example, `Int16` or `BigInt`."
   ]
  },
  {
   "cell_type": "code",
   "execution_count": 171,
   "metadata": {},
   "outputs": [
    {
     "data": {
      "text/plain": [
       "\u001b[32m\u001b[1mTest Passed\u001b[22m\u001b[39m"
      ]
     },
     "execution_count": 171,
     "metadata": {},
     "output_type": "execute_result"
    }
   ],
   "source": [
    "struct RatTemplated{T}\n",
    "    p::T\n",
    "    q::T\n",
    "end\n",
    "\n",
    "x = RatTemplated(1, 2)\n",
    "\n",
    "function ==(x::RatTemplated, y::RatTemplated)\n",
    "    x_gcd = gcd(x.p, x.q)\n",
    "    y_gcd = gcd(y.p, y.q)\n",
    "    x_lowest = RatTemplated(div(x.p, x_gcd), div(x.q, x_gcd))\n",
    "    y_lowest = RatTemplated(div(y.p, y_gcd), div(y.q, y_gcd))\n",
    "\n",
    "    return x_lowest.p == y_lowest.p && x_lowest.q == y_lowest.q\n",
    "end\n",
    "\n",
    "function ==(x::RatTemplated, y::Integer)\n",
    "    return x == RatTemplated(y, 1)\n",
    "end\n",
    "\n",
    "# Supporting equality when 'x is an Integer' and 'y is a Rat'\n",
    "function ==(x::Integer, y::RatTemplated)\n",
    "    ==(y, x)\n",
    "end\n",
    "\n",
    "function +(x::RatTemplated, y::RatTemplated)\n",
    "    return RatTemplated(x.p * y.q + y.p * x.q, x.q * y.q)\n",
    "end\n",
    "\n",
    "function -(x::RatTemplated, y::RatTemplated)\n",
    "    return RatTemplated(x.p * y.q - y.p * x.q, x.q * y.q)\n",
    "end\n",
    "\n",
    "function *(x::RatTemplated, y::RatTemplated)\n",
    "    return RatTemplated(x.p * y.p, x.q * y.q)\n",
    "end\n",
    "\n",
    "function /(x::RatTemplated, y::RatTemplated)\n",
    "    return x * RatTemplated(y.q, y.p)\n",
    "end\n",
    "\n",
    "@test RatTemplated(big(2)^64, big(2)^65) == RatTemplated(1, 2)"
   ]
  },
  {
   "attachments": {},
   "cell_type": "markdown",
   "metadata": {},
   "source": [
    "---\n",
    "\n",
    "*This notebook was generated using [Literate.jl](https://github.com/fredrikekre/Literate.jl).*"
   ]
  }
 ],
 "metadata": {
  "kernelspec": {
   "display_name": "Julia 1.8.5",
   "language": "julia",
   "name": "julia-1.8"
  },
  "language_info": {
   "file_extension": ".jl",
   "mimetype": "application/julia",
   "name": "julia",
   "version": "1.8.5"
  }
 },
 "nbformat": 4,
 "nbformat_minor": 3
}
