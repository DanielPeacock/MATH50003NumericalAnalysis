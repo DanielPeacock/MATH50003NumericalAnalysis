{
  "cells": [
    {
      "cell_type": "markdown",
      "source": [
        "## III.2 Discrete Fourier Transform\n\n\nIn the last lecture we explored using the trapezium rule for approximating Fourier coefficients.\nThis is a linear map from function values to coefficients and thus can be reinterpreted as\na matrix-vector product, called the the Discrete Fourier Transform. It turns out the matrix\nis unitary which leads to important properties including interpolation. Finally, we discuss how a clever\nway of decomposing the DFT leads to a fast way of applying and inverting it, which is one of the\nmost influencial algorithms of the 20th century: the Fast Fourier Transform.\n\n\n1. The Discrete Fourier Transform (DFT): We discuss the map from values to approximate Fourier coefficients, and back.\n2. Interpolation: We show that the approximate Fourier expansion _exactly_ interpolates the values at the sample grid.\n3. The Fast Fourier Transform (FFT): We discuss how the DFT can be applied in $O(n \\log n)$ operations.\n\n## 1. The Discrete Fourier transform\n\n**Definition 1 (DFT)**\nThe _Discrete Fourier Transform (DFT)_ is defined as:\n$$\n\\begin{align*}\nQ_n &:= {1 \\over \\sqrt{n}} \\begin{bmatrix} 1 & 1 & 1&  ⋯ & 1 \\\\\n                                    1 & {\\rm e}^{-{\\rm i} θ_1} & {\\rm e}^{-{\\rm i} θ_2} & ⋯ & {\\rm e}^{-{\\rm i} θ_{n-1}} \\\\\n                                    1 & {\\rm e}^{-{\\rm i} 2 θ_1} & {\\rm e}^{-{\\rm i} 2 θ_2} & ⋯ & {\\rm e}^{-{\\rm i} 2θ_{n-1}} \\\\\n                                    ⋮ & ⋮ & ⋮ & ⋱ & ⋮ \\\\\n                                    1 & {\\rm e}^{-{\\rm i} (n-1) θ_1} & {\\rm e}^{-{\\rm i} (n-1) θ_2} & ⋯ & {\\rm e}^{-{\\rm i} (n-1) θ_{n-1}}\n\\end{bmatrix} \\\\\n&= {1 \\over \\sqrt{n}} \\begin{bmatrix} 1 & 1 & 1&  ⋯ & 1 \\\\\n                                    1 & ω^{-1} & ω^{-2} & ⋯ & ω^{-(n-1)}\\\\\n                                    1 & ω^{-2} & ω^{-4} & ⋯ & ω^{-2(n-1)}\\\\\n                                    ⋮ & ⋮ & ⋮ & ⋱ & ⋮ \\\\\n                                    1 & ω^{-(n-1)} & ω^{-2(n-1)} & ⋯ & ω^{-(n-1)^2}\n\\end{bmatrix}\n\\end{align*}\n$$\nfor the $n$-th root of unity $ω = {\\rm e}^{2π{\\rm i}/n}$. Note that\n$$\n\\begin{align*}\nQ_n^⋆ &= {1 \\over \\sqrt{n}} \\begin{bmatrix}\n1 & 1 & 1&  ⋯ & 1 \\\\\n1 & {\\rm e}^{{\\rm i} θ_1} & {\\rm e}^{{\\rm i} 2 θ_1} & ⋯ & {\\rm e}^{{\\rm i} (n-1) θ_1} \\\\\n1 &  {\\rm e}^{{\\rm i} θ_2}  & {\\rm e}^{{\\rm i} 2 θ_2} & ⋯ & {\\rm e}^{{\\rm i} (n-1)θ_2} \\\\\n⋮ & ⋮ & ⋮ & ⋱ & ⋮ \\\\\n1 & {\\rm e}^{{\\rm i} θ_{n-1}} & {\\rm e}^{{\\rm i} 2 θ_{n-1}} & ⋯ & {\\rm e}^{{\\rm i} (n-1) θ_{n-1}}\n\\end{bmatrix} \\\\\n&= {1 \\over \\sqrt{n}} \\begin{bmatrix}\n1 & 1 & 1&  ⋯ & 1 \\\\\n1 & ω^{1} & ω^{2} & ⋯ & ω^{(n-1)}\\\\\n1 & ω^{2} & ω^{4} & ⋯ & ω^{2(n-1)}\\\\\n⋮ & ⋮ & ⋮ & ⋱ & ⋮ \\\\\n1 & ω^{(n-1)} & ω^{2(n-1)} & ⋯ & ω^{(n-1)^2}\n\\end{bmatrix}\n\\end{align*}\n$$\n\nNote that\n$$\n\\underbrace{\\begin{bmatrix} f̂_0^n \\\\ ⋮ \\\\ f̂_{n-1}^n \\end{bmatrix}}_{𝐟̂ⁿ} = \n{1 \\over \\sqrt{n}} Q_n \\underbrace{\\begin{bmatrix} f(θ_0) \\\\ ⋮ \\\\ f(θ_{n-1}) \\end{bmatrix}}_{𝐟ⁿ}\n$$\n\nThe choice of normalisation constant is motivated by the following:\n\n**Proposition 1 (DFT is Unitary)** $Q_n ∈ U(n)$, that is, $Q_n^⋆ Q_n = Q_n Q_n^⋆ = I$.\n\n**Proof**\n$$\nQ_n Q_n^⋆  = \\begin{bmatrix} Σ_n[1] & Σ_n[{\\rm e}^{{\\rm i} θ}] & ⋯ & Σ_n[{\\rm e}^{{\\rm i} (n-1) θ}] \\\\\n                            Σ_n[{\\rm e}^{-{\\rm i} θ}] & Σ_n[1] & ⋯ & Σ_n[{\\rm e}^{{\\rm i} (n-2) θ}] \\\\\n                            ⋮ & ⋮ & ⋱ & ⋮ \\\\\n                            Σ_n[{\\rm e}^{-{\\rm i}(n-1) θ}] & Σ_n[{\\rm e}^{-{\\rm i}(n-2) θ}] & ⋯ & Σ_n[1]\n                            \\end{bmatrix} = I\n$$\n∎\n\nIn other words, $Q_n$ is easily inverted and we also have a map from discrete Fourier coefficients back to values:\n$$\n\\sqrt{n} Q_n^⋆ 𝐟̂ⁿ = 𝐟ⁿ\n$$\n\n## 2. Interpolation\n\nWe investigated briefly interpolation and least squares using polynomials at evenly spaced points, observing that\nthere were issues with stability. We now show that the DFT actually gives coefficients that interpolate using Fourier\nexpansions. As the DFT is a unitary matrix its (2-norm) condition number is 1, hence this is a stable process. Thus we arrive\nat the main result:\n\n**Corollary 1 (Interpolation)**\n$$\nf_n(θ) := ∑_{k=0}^{n-1} f̂_k^n {\\rm e}^{{\\rm i} k θ}\n$$\ninterpolates $f$ at $θ_j$:\n$$\nf_n(θ_j) = f(θ_j)\n$$\n\n**Proof**\nWe have\n$$\nf_n(θ_j) = ∑_{k=0}^{n-1} f̂_k^n {\\rm e}^{{\\rm i} k θ_j} = \\sqrt n 𝐞_j^⊤ Q_n^⋆ 𝐟̂ⁿ = 𝐞_j^⊤ Q_n^⋆ Q_n 𝐟ⁿ = f(θ_j).\n$$\n\n∎\n\n\nWe will leave extending this result to the general non-Taylor case to the problem sheet. Note that regardless of choice of coefficients\nwe interpolate provided we have $n$ consecutive coefficients, though some interpolations are better than others:"
      ],
      "metadata": {}
    },
    {
      "outputs": [],
      "cell_type": "code",
      "source": [
        "using Plots, LinearAlgebra\n\n\n# evaluates f_n at a point\nfunction finitefourier(𝐟̂ₙ, θ)\n    m = n ÷ 2 # use coefficients between -m:m\n    ret = 0.0 + 0.0im # coefficients are complex so we need complex arithmetic\n    for k = 0:m\n        ret += 𝐟̂ₙ[k+1] * exp(im*k*θ)\n    end\n    for k = -m:-1\n        ret += 𝐟̂ₙ[end+k+1] * exp(im*k*θ)\n    end\n    ret\nend\n\nfunction finitetaylor(𝐟̂ₙ, θ)\n    ret = 0.0 + 0.0im # coefficients are complex so we need complex arithmetic\n    for k = 0:n-1\n        ret += 𝐟̂ₙ[k+1] * exp(im*k*θ)\n    end\n    ret\nend\n\n\nf = θ -> exp(cos(θ))\nn = 7\nθ = range(0,2π; length=n+1)[1:end-1] # θ_0, …,θ_{n-1}, dropping θ_n == 2π\nQₙ = 1/sqrt(n) * [exp(-im*(k-1)*θ[j]) for k = 1:n, j=1:n]\n𝐟̂ₙ = 1/sqrt(n) * Qₙ * f.(θ)\n\n\nfₙ = θ -> finitefourier(𝐟̂ₙ, θ)\ntₙ = θ -> finitetaylor(𝐟̂ₙ, θ)\n\ng = range(0, 2π; length=1000) # plotting grid\nplot(g, f.(g); label=\"function\", legend=:bottomright)\nplot!(g, real.(fₙ.(g)); label=\"Fourier\")\nplot!(g, real.(tₙ.(g)); label=\"Taylor\")\nscatter!(θ, f.(θ); label=\"samples\")"
      ],
      "metadata": {},
      "execution_count": null
    },
    {
      "cell_type": "markdown",
      "source": [
        "We now demonstrate the relationship of Taylor and Fourier coefficients\nand their discrete approximations for some examples:\n\n**Example 1** Consider the function\n$$\nf(θ) = {2 \\over 2 - {\\rm e}^{{\\rm i} θ}}\n$$\nUnder the change of variables $z = {\\rm e}^{{\\rm i} θ}$ we know for\n$z$ on the unit circle this becomes (using the geometric series with $z/2$)\n$$\n{2 \\over 2-z} = ∑_{k=0}^∞ {z^k \\over 2^k}\n$$\ni.e., $f̂_k = 1/2^k$ which is absolutely summable:\n$$\n∑_{k=0}^∞ |f̂_k| = f(0) = 2.\n$$\nIf we use an $n$ point discretisation we get (using the geoemtric series with $2^{-n}$)\n$$\nf̂_k^n = f̂_k + f̂_{k+n} + f̂_{k+n} + ⋯ = ∑_{p=0}^∞ {1 \\over 2^{k+pn}} = {2^{n-k} \\over 2^n - 1}\n$$\nWe can verify this numerically:"
      ],
      "metadata": {}
    },
    {
      "outputs": [],
      "cell_type": "code",
      "source": [
        "f = θ -> 2/(2 - exp(im*θ))\nn = 7\nθ = range(0,2π; length=n+1)[1:end-1] # θ_0, …,θ_{n-1}, dropping θ_n == 2π\nQₙ = 1/sqrt(n) * [exp(-im*(k-1)*θ[j]) for k = 1:n, j=1:n]\n\nQₙ/sqrt(n)*f.(θ) ≈ 2 .^ (n .- (0:n-1)) / (2^n-1)"
      ],
      "metadata": {},
      "execution_count": null
    },
    {
      "cell_type": "markdown",
      "source": [
        "**Example 2** Define the following infinite sum (which has no name apparently,\naccording to Mathematica):\n$$\nS_n(k) := ∑_{p=0}^∞ {1 \\over (k+pn)!}\n$$\nWe can use the DFT to compute $S_n(0), …, S_n(n-1)$.\nConsider\n$$\nf(θ) = \\exp({\\rm e}^{{\\rm i} θ}) = ∑_{k=0}^∞ {{\\rm e}^{{\\rm i} k θ} \\over k!}\n$$\nwhere we know the Fourier coefficients from the Taylor series of ${\\rm e}^z$. \nThe discrete Fourier coefficients satisfy for $0 ≤ k ≤ n-1$:\n$$\nf̂_k^n = f̂_k + f̂_{k+n} + f̂_{k+2n} + ⋯ = S_n(k)\n$$\nThus we have\n$$\n\\begin{bmatrix}\nS_n(0) \\\\ \n⋮ \\\\\nS_n(n-1)\n\\end{bmatrix} = {1 \\over \\sqrt{n}} Q_n \\begin{bmatrix} 1 \\\\\n                                \\exp({\\rm e}^{2{\\rm i} π/n}) \\\\\n                                ⋮ \\\\\n                                \\exp({\\rm e}^{2{\\rm i} (n-1) π/n}) \\end{bmatrix}\n$$\n\n\n\n\n## 3. Fast Fourier Transform (non-examinable)\n\nApplying $Qₙ$ or its adjoint $Q_n^⋆$ to a vector naively takes $O(n^2)$ operations.\nBoth can be reduced to $O(n \\log n)$ using the celebrated _Fast Fourier Transform_ (FFT),\nwhich is one of the [Top 10 Algorithms of the 20th Century](https://pi.math.cornell.edu/~web6140/)\n(You won't believe number 7!).\n\nThe key observation is that hidden in $Q_{2n}$ are 2 copies of\n$Q_n$. We will work with multiple $n$ we denote the $n$-th root as $ω_n = \\exp(2π/n)$.\nNote that we can relate a vector of powers of $ω_{2n}$ to two copies of vectors of powers of $ω_n$:\n$$\n\\underbrace{\\begin{bmatrix} 1 \\\\ ω_{2n} \\\\ ⋮ \\\\ ω_{2n}^{2n-1} \\end{bmatrix}}_{\\vec{ω}_{2n}} =\nP_σ^⊤ \\begin{bmatrix} I_n \\\\ ω_{2n} I_n \\end{bmatrix} \\underbrace{\\begin{bmatrix} 1 \\\\ ω_n \\\\ ⋮ \\\\ ω_n^{n-1} \\end{bmatrix}}_{\\vec{ω}_n}\n$$\nwhere $σ$ has the Cauchy notation\n$$\n\\begin{pmatrix}\n1 & 2 & 3 & ⋯ & n & n+1 & ⋯ & 2n \\\\\n1 & 3 & 5 & ⋯ & 2n-1 & 2 & ⋯ & 2n\n\\end{pmatrix}\n$$\nThat is, $P_σ$ is the following matrix which takes the even entries\nand places them in the first $n$ entries and the odd entries in the\nlast $n$ entries:"
      ],
      "metadata": {}
    },
    {
      "outputs": [],
      "cell_type": "code",
      "source": [
        "n = 4\nσ = [1:2:2n-1; 2:2:2n]\nP_σ = I(2n)[σ,:]"
      ],
      "metadata": {},
      "execution_count": null
    },
    {
      "cell_type": "markdown",
      "source": [
        "and so $P_σ^⊤$ reverses the process.\nThus we have\n$$\n\\begin{align*}\nQ_{2n}^⋆ &= {1 \\over \\sqrt{2n}} \\begin{bmatrix} 𝟏_{2n} | \\vec{ω}_{2n} | \\vec{ω}_{2n}^2 | ⋯ | \\vec{ω}_{2n}^{2n-1} \\end{bmatrix}\n= {1 \\over \\sqrt{2n}} P_σ^⊤ \\begin{bmatrix} 𝟏_{n} &   \\vec{ω}_n        & \\vec{ω}_n^2          & ⋯ & \\vec{ω}_n^{n-1}          & \\vec{ω}_n^n  & ⋯ & \\vec{ω}_n^{2n-1}  \\\\\n                        𝟏_{n} & ω_{2n} \\vec{ω}_n & ω_{2n}^2 \\vec{ω}_n^2 & ⋯ & ω_{2n}^{n-1} \\vec{ω}_n^{n-1} & ω_{2n}^n \\vec{ω}_n^n  & ⋯ & ω_{2n}^{2n-1} \\vec{ω}_n^{2n-1}\n\\end{bmatrix} \\\\\n&= {1 \\over \\sqrt{2}} P_σ^⊤ \\begin{bmatrix} Q_n^⋆ & Q_n^⋆ \\\\\n                                     Q_n^⋆ D_n & -Q_n^⋆ D_n\n                                     \\end{bmatrix} =\n                                     {1 \\over \\sqrt{2}}P_σ^⊤ \\begin{bmatrix} Q_n^⋆ \\\\ &Q_n^⋆ \\end{bmatrix} \\begin{bmatrix} I_n & I_n \\\\ D_n & -D_n \\end{bmatrix}\n\\end{align*}\n$$\nIn other words, we reduced the DFT to two DFTs applied to vectors of half the dimension.\n\nWe can see this formula in code:"
      ],
      "metadata": {}
    },
    {
      "outputs": [],
      "cell_type": "code",
      "source": [
        "function fftmatrix(n)\n    θ = range(0,2π; length=n+1)[1:end-1] # θ_0, …,θ_{n-1}, dropping θ_n == 2π\n    [exp(-im*(k-1)*θ[j]) for k = 1:n, j=1:n]/sqrt(n)\nend\n\nQ₂ₙ = fftmatrix(2n)\nQₙ = fftmatrix(n)\nDₙ = Diagonal([exp(im*k*π/n) for k=0:n-1])\n(P_σ'*[Qₙ' Qₙ'; Qₙ'*Dₙ -Qₙ'*Dₙ])[1:n,1:n] ≈ sqrt(2)Q₂ₙ'[1:n,1:n]"
      ],
      "metadata": {},
      "execution_count": null
    },
    {
      "cell_type": "markdown",
      "source": [
        "Now assume $n = 2^q$ so that $\\log_2 n = q$. To see that we get $O(n \\log n) = O(n q)$ operations we need to count the operations.\nAssume that applying $F_n$ takes $≤3n q$ additions and multiplications. The first $n$ rows takes $n$ additions. The last $n$ has $n$ multiplications and $n$ additions.\nThus we have $6nq + 3n ≤ 6n(q+1) = 3 (2n) \\log_2(2n)$ additions/multiplications, showing by induction that we have $O(n \\log n)$ operations.\n\n\n\n**Remark** The FFTW.jl package wraps the FFTW (Fastest Fourier Transform in the West) library,\nwhich is a highly optimised implementation\nof the FFT that also works well even when $n$ is not a power of 2.\n(As an aside, the creator of FFTW [Steven Johnson](https://math.mit.edu/~stevenj/) is now a\nJulia contributor and user.)\n Here we approximate $\\exp(\\cos(θ-0.1))$ using\n31 nodes:"
      ],
      "metadata": {}
    },
    {
      "outputs": [],
      "cell_type": "code",
      "source": [
        "using FFTW\nf = θ -> exp(cos(θ-0.1))\nn = 31\nm = n÷2\n# evenly spaced points from 0:2π, dropping last node\nθ = range(0, 2π; length=n+1)[1:end-1]\n\n# fft returns discrete Fourier coefficients n*[f̂ⁿ_0, …, f̂ⁿ_(n-1)]\nfc = fft(f.(θ))/n\n\n# We reorder using [f̂ⁿ_(-m), …, f̂ⁿ_(-1)] == [f̂ⁿ_(n-m), …, f̂ⁿ_(n-1)]\n#  == [f̂ⁿ_(m+1), …, f̂ⁿ_(n-1)]\nf̂ = [fc[m+2:end]; fc[1:m+1]]\n\n# equivalent to f̂ⁿ_(-m)*exp(-im*m*θ) + … + f̂ⁿ_(m)*exp(im*m*θ)\nfₙ = θ -> transpose([exp(im*k*θ) for k=-m:m]) * f̂\n\n# plotting grid\ng = range(0, 2π; length=1000)\nplot(abs.(fₙ.(g) - f.(g)))"
      ],
      "metadata": {},
      "execution_count": null
    },
    {
      "cell_type": "markdown",
      "source": [
        "Thus we have successfully approximate the function to roughly machine precision.\nThe magic of the FFT is because it's $O(n \\log n)$ we can scale it to very high orders.\nHere we plot the Fourier coefficients for a function that requires around 100k\ncoefficients to resolve:"
      ],
      "metadata": {}
    },
    {
      "outputs": [],
      "cell_type": "code",
      "source": [
        "f = θ -> exp(sin(θ))/(1+1e6cos(θ)^2)\nn = 100_001\nm = n÷2\n# evenly spaced points from 0:2π, dropping last node\nθ = range(0, 2π; length=n+1)[1:end-1]\n\n# fft returns discrete Fourier coefficients n*[f̂ⁿ_0, …, f̂ⁿ_(n-1)]\nfc = fft(f.(θ))/n\n\n\n# We reorder using [f̂ⁿ_(-m), …, f̂ⁿ_(-1)] == [f̂ⁿ_(n-m), …, f̂ⁿ_(n-1)]\n#  == [f̂ⁿ_(m+1), …, f̂ⁿ_(n-1)]\nf̂ = [fc[m+2:end]; fc[1:m+1]]\n\nplot(abs.(fc); yscale=:log10, legend=:bottomright, label=\"default\")\nplot!(abs.(f̂); yscale=:log10, label=\"reordered\")"
      ],
      "metadata": {},
      "execution_count": null
    }
  ],
  "nbformat_minor": 2,
  "metadata": {
    "language_info": {
      "file_extension": ".jl",
      "mimetype": "application/julia",
      "name": "julia",
      "version": "1.9.0"
    },
    "kernelspec": {
      "name": "julia-1.9",
      "display_name": "Julia 1.9.0",
      "language": "julia"
    }
  },
  "nbformat": 4
}
